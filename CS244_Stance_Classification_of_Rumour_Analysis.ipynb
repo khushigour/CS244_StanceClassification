{
 "cells": [
  {
   "cell_type": "code",
   "execution_count": 140,
   "metadata": {},
   "outputs": [
    {
     "data": {
      "text/html": [
       "<div>\n",
       "<style scoped>\n",
       "    .dataframe tbody tr th:only-of-type {\n",
       "        vertical-align: middle;\n",
       "    }\n",
       "\n",
       "    .dataframe tbody tr th {\n",
       "        vertical-align: top;\n",
       "    }\n",
       "\n",
       "    .dataframe thead th {\n",
       "        text-align: right;\n",
       "    }\n",
       "</style>\n",
       "<table border=\"1\" class=\"dataframe\">\n",
       "  <thead>\n",
       "    <tr style=\"text-align: right;\">\n",
       "      <th></th>\n",
       "      <th>topics</th>\n",
       "      <th>source_tweet</th>\n",
       "      <th>branches</th>\n",
       "      <th>fold_stance_labels_text</th>\n",
       "      <th>fold_stance_labels</th>\n",
       "      <th>Veracitylabels_text</th>\n",
       "      <th>Veracitylabels</th>\n",
       "    </tr>\n",
       "  </thead>\n",
       "  <tbody>\n",
       "    <tr>\n",
       "      <th>0</th>\n",
       "      <td>charliehebdo</td>\n",
       "      <td>Stills from eyewitness video show two #Charlie...</td>\n",
       "      <td>['Stills from eyewitness video show two #Charl...</td>\n",
       "      <td>['support', 'support', 'comment']</td>\n",
       "      <td>[0, 0, 3]</td>\n",
       "      <td>true</td>\n",
       "      <td>0</td>\n",
       "    </tr>\n",
       "    <tr>\n",
       "      <th>1</th>\n",
       "      <td>charliehebdo</td>\n",
       "      <td>Stills from eyewitness video show two #Charlie...</td>\n",
       "      <td>['Stills from eyewitness video show two #Charl...</td>\n",
       "      <td>['support', 'support']</td>\n",
       "      <td>[0, 0]</td>\n",
       "      <td>true</td>\n",
       "      <td>0</td>\n",
       "    </tr>\n",
       "    <tr>\n",
       "      <th>2</th>\n",
       "      <td>charliehebdo</td>\n",
       "      <td>Stills from eyewitness video show two #Charlie...</td>\n",
       "      <td>['Stills from eyewitness video show two #Charl...</td>\n",
       "      <td>['support']</td>\n",
       "      <td>[0]</td>\n",
       "      <td>true</td>\n",
       "      <td>0</td>\n",
       "    </tr>\n",
       "    <tr>\n",
       "      <th>3</th>\n",
       "      <td>charliehebdo</td>\n",
       "      <td>Stills from eyewitness video show two #Charlie...</td>\n",
       "      <td>['Stills from eyewitness video show two #Charl...</td>\n",
       "      <td>['support', 'comment']</td>\n",
       "      <td>[0, 3]</td>\n",
       "      <td>true</td>\n",
       "      <td>0</td>\n",
       "    </tr>\n",
       "    <tr>\n",
       "      <th>4</th>\n",
       "      <td>charliehebdo</td>\n",
       "      <td>Stills from eyewitness video show two #Charlie...</td>\n",
       "      <td>['Stills from eyewitness video show two #Charl...</td>\n",
       "      <td>['support', 'comment']</td>\n",
       "      <td>[0, 3]</td>\n",
       "      <td>true</td>\n",
       "      <td>0</td>\n",
       "    </tr>\n",
       "    <tr>\n",
       "      <th>...</th>\n",
       "      <td>...</td>\n",
       "      <td>...</td>\n",
       "      <td>...</td>\n",
       "      <td>...</td>\n",
       "      <td>...</td>\n",
       "      <td>...</td>\n",
       "      <td>...</td>\n",
       "    </tr>\n",
       "    <tr>\n",
       "      <th>3025</th>\n",
       "      <td>sydneysiege</td>\n",
       "      <td>BREAKING NEWS: Gunmen take hostages at Sydney ...</td>\n",
       "      <td>['BREAKING NEWS: Gunmen take hostages at Sydne...</td>\n",
       "      <td>['support', 'comment']</td>\n",
       "      <td>[0, 3]</td>\n",
       "      <td>true</td>\n",
       "      <td>0</td>\n",
       "    </tr>\n",
       "    <tr>\n",
       "      <th>3026</th>\n",
       "      <td>sydneysiege</td>\n",
       "      <td>BREAKING NEWS: Gunmen take hostages at Sydney ...</td>\n",
       "      <td>['BREAKING NEWS: Gunmen take hostages at Sydne...</td>\n",
       "      <td>['support']</td>\n",
       "      <td>[0]</td>\n",
       "      <td>true</td>\n",
       "      <td>0</td>\n",
       "    </tr>\n",
       "    <tr>\n",
       "      <th>3027</th>\n",
       "      <td>sydneysiege</td>\n",
       "      <td>BREAKING NEWS: Gunmen take hostages at Sydney ...</td>\n",
       "      <td>['BREAKING NEWS: Gunmen take hostages at Sydne...</td>\n",
       "      <td>['support', 'deny']</td>\n",
       "      <td>[0, 1]</td>\n",
       "      <td>true</td>\n",
       "      <td>0</td>\n",
       "    </tr>\n",
       "    <tr>\n",
       "      <th>3028</th>\n",
       "      <td>sydneysiege</td>\n",
       "      <td>We can see people coming out a firedoor near t...</td>\n",
       "      <td>['We can see people coming out a firedoor near...</td>\n",
       "      <td>['support', 'comment']</td>\n",
       "      <td>[0, 3]</td>\n",
       "      <td>true</td>\n",
       "      <td>0</td>\n",
       "    </tr>\n",
       "    <tr>\n",
       "      <th>3029</th>\n",
       "      <td>sydneysiege</td>\n",
       "      <td>We can see people coming out a firedoor near t...</td>\n",
       "      <td>['We can see people coming out a firedoor near...</td>\n",
       "      <td>['support', 'query']</td>\n",
       "      <td>[0, 2]</td>\n",
       "      <td>true</td>\n",
       "      <td>0</td>\n",
       "    </tr>\n",
       "  </tbody>\n",
       "</table>\n",
       "<p>3030 rows × 7 columns</p>\n",
       "</div>"
      ],
      "text/plain": [
       "            topics                                       source_tweet  \\\n",
       "0     charliehebdo  Stills from eyewitness video show two #Charlie...   \n",
       "1     charliehebdo  Stills from eyewitness video show two #Charlie...   \n",
       "2     charliehebdo  Stills from eyewitness video show two #Charlie...   \n",
       "3     charliehebdo  Stills from eyewitness video show two #Charlie...   \n",
       "4     charliehebdo  Stills from eyewitness video show two #Charlie...   \n",
       "...            ...                                                ...   \n",
       "3025   sydneysiege  BREAKING NEWS: Gunmen take hostages at Sydney ...   \n",
       "3026   sydneysiege  BREAKING NEWS: Gunmen take hostages at Sydney ...   \n",
       "3027   sydneysiege  BREAKING NEWS: Gunmen take hostages at Sydney ...   \n",
       "3028   sydneysiege  We can see people coming out a firedoor near t...   \n",
       "3029   sydneysiege  We can see people coming out a firedoor near t...   \n",
       "\n",
       "                                               branches  \\\n",
       "0     ['Stills from eyewitness video show two #Charl...   \n",
       "1     ['Stills from eyewitness video show two #Charl...   \n",
       "2     ['Stills from eyewitness video show two #Charl...   \n",
       "3     ['Stills from eyewitness video show two #Charl...   \n",
       "4     ['Stills from eyewitness video show two #Charl...   \n",
       "...                                                 ...   \n",
       "3025  ['BREAKING NEWS: Gunmen take hostages at Sydne...   \n",
       "3026  ['BREAKING NEWS: Gunmen take hostages at Sydne...   \n",
       "3027  ['BREAKING NEWS: Gunmen take hostages at Sydne...   \n",
       "3028  ['We can see people coming out a firedoor near...   \n",
       "3029  ['We can see people coming out a firedoor near...   \n",
       "\n",
       "                fold_stance_labels_text fold_stance_labels  \\\n",
       "0     ['support', 'support', 'comment']          [0, 0, 3]   \n",
       "1                ['support', 'support']             [0, 0]   \n",
       "2                           ['support']                [0]   \n",
       "3                ['support', 'comment']             [0, 3]   \n",
       "4                ['support', 'comment']             [0, 3]   \n",
       "...                                 ...                ...   \n",
       "3025             ['support', 'comment']             [0, 3]   \n",
       "3026                        ['support']                [0]   \n",
       "3027                ['support', 'deny']             [0, 1]   \n",
       "3028             ['support', 'comment']             [0, 3]   \n",
       "3029               ['support', 'query']             [0, 2]   \n",
       "\n",
       "     Veracitylabels_text  Veracitylabels  \n",
       "0                   true               0  \n",
       "1                   true               0  \n",
       "2                   true               0  \n",
       "3                   true               0  \n",
       "4                   true               0  \n",
       "...                  ...             ...  \n",
       "3025                true               0  \n",
       "3026                true               0  \n",
       "3027                true               0  \n",
       "3028                true               0  \n",
       "3029                true               0  \n",
       "\n",
       "[3030 rows x 7 columns]"
      ]
     },
     "execution_count": 140,
     "metadata": {},
     "output_type": "execute_result"
    }
   ],
   "source": [
    "import pandas as pd\n",
    "import numpy as np\n",
    "import string\n",
    "import nltk\n",
    "from nltk.stem.porter import PorterStemmer\n",
    "from nltk.stem import WordNetLemmatizer\n",
    "from sklearn.feature_extraction.text import CountVectorizer\n",
    "\n",
    "#loading dataset\n",
    "filepath=r\"C:\\Users\\mahes\\Desktop\\New folder (2)\\Rumor_datascience\\Rumor_datascience\\SemEval\\train\\Table2SemEvalWithSource_trainText.csv\"\n",
    "df=pd.read_csv(filepath)\n",
    "df"
   ]
  },
  {
   "cell_type": "markdown",
   "metadata": {},
   "source": [
    "#### Preprocessing and feature extraxtion from data"
   ]
  },
  {
   "cell_type": "code",
   "execution_count": 141,
   "metadata": {},
   "outputs": [
    {
     "name": "stdout",
     "output_type": "stream",
     "text": [
      "<class 'str'>\n",
      "<class 'str'>\n"
     ]
    }
   ],
   "source": [
    "print(type(df['branches'][0]))\n",
    "print(type(df['fold_stance_labels_text'][0]))"
   ]
  },
  {
   "cell_type": "code",
   "execution_count": 142,
   "metadata": {},
   "outputs": [
    {
     "name": "stderr",
     "output_type": "stream",
     "text": [
      "C:\\Users\\mahes\\anaconda3\\lib\\site-packages\\ipykernel_launcher.py:4: SettingWithCopyWarning: \n",
      "A value is trying to be set on a copy of a slice from a DataFrame\n",
      "\n",
      "See the caveats in the documentation: https://pandas.pydata.org/pandas-docs/stable/user_guide/indexing.html#returning-a-view-versus-a-copy\n",
      "  after removing the cwd from sys.path.\n"
     ]
    },
    {
     "name": "stdout",
     "output_type": "stream",
     "text": [
      "<class 'list'>\n"
     ]
    },
    {
     "name": "stderr",
     "output_type": "stream",
     "text": [
      "C:\\Users\\mahes\\anaconda3\\lib\\site-packages\\ipykernel_launcher.py:9: SettingWithCopyWarning: \n",
      "A value is trying to be set on a copy of a slice from a DataFrame\n",
      "\n",
      "See the caveats in the documentation: https://pandas.pydata.org/pandas-docs/stable/user_guide/indexing.html#returning-a-view-versus-a-copy\n",
      "  if __name__ == '__main__':\n"
     ]
    },
    {
     "name": "stdout",
     "output_type": "stream",
     "text": [
      "<class 'list'>\n"
     ]
    },
    {
     "name": "stderr",
     "output_type": "stream",
     "text": [
      "C:\\Users\\mahes\\anaconda3\\lib\\site-packages\\ipykernel_launcher.py:14: SettingWithCopyWarning: \n",
      "A value is trying to be set on a copy of a slice from a DataFrame\n",
      "\n",
      "See the caveats in the documentation: https://pandas.pydata.org/pandas-docs/stable/user_guide/indexing.html#returning-a-view-versus-a-copy\n",
      "  \n"
     ]
    }
   ],
   "source": [
    "#converting string representation of list into list\n",
    "import ast\n",
    "for i in range(len(df.branches)):\n",
    "    df.branches[i]=ast.literal_eval(df.branches[i])\n",
    "\n",
    "print(type(df['branches'][0]))\n",
    "\n",
    "for i in range(len(df.fold_stance_labels)):\n",
    "    df.fold_stance_labels[i]=ast.literal_eval(df.fold_stance_labels[i])\n",
    "    \n",
    "print(type(df['branches'][0]))\n",
    "\n",
    "for i in range(len(df.fold_stance_labels_text)):\n",
    "    df.fold_stance_labels_text[i]=ast.literal_eval(df.fold_stance_labels_text[i])\n",
    "    "
   ]
  },
  {
   "cell_type": "code",
   "execution_count": 143,
   "metadata": {},
   "outputs": [
    {
     "data": {
      "text/html": [
       "<div>\n",
       "<style scoped>\n",
       "    .dataframe tbody tr th:only-of-type {\n",
       "        vertical-align: middle;\n",
       "    }\n",
       "\n",
       "    .dataframe tbody tr th {\n",
       "        vertical-align: top;\n",
       "    }\n",
       "\n",
       "    .dataframe thead th {\n",
       "        text-align: right;\n",
       "    }\n",
       "</style>\n",
       "<table border=\"1\" class=\"dataframe\">\n",
       "  <thead>\n",
       "    <tr style=\"text-align: right;\">\n",
       "      <th></th>\n",
       "      <th>text</th>\n",
       "      <th>label</th>\n",
       "      <th>label_text</th>\n",
       "    </tr>\n",
       "  </thead>\n",
       "  <tbody>\n",
       "    <tr>\n",
       "      <th>0</th>\n",
       "      <td>Stills from eyewitness video show two #Charlie...</td>\n",
       "      <td>0</td>\n",
       "      <td>support</td>\n",
       "    </tr>\n",
       "    <tr>\n",
       "      <th>1</th>\n",
       "      <td>Terribile “@MashableNews: video show two #Char...</td>\n",
       "      <td>0</td>\n",
       "      <td>support</td>\n",
       "    </tr>\n",
       "    <tr>\n",
       "      <th>2</th>\n",
       "      <td>@Raquel75 @MashableNews and terrible too</td>\n",
       "      <td>3</td>\n",
       "      <td>comment</td>\n",
       "    </tr>\n",
       "    <tr>\n",
       "      <th>3</th>\n",
       "      <td>Stills from eyewitness video show two #Charlie...</td>\n",
       "      <td>0</td>\n",
       "      <td>support</td>\n",
       "    </tr>\n",
       "    <tr>\n",
       "      <th>4</th>\n",
       "      <td>Terribile “@MashableNews: video show two #Char...</td>\n",
       "      <td>0</td>\n",
       "      <td>support</td>\n",
       "    </tr>\n",
       "    <tr>\n",
       "      <th>...</th>\n",
       "      <td>...</td>\n",
       "      <td>...</td>\n",
       "      <td>...</td>\n",
       "    </tr>\n",
       "    <tr>\n",
       "      <th>8294</th>\n",
       "      <td>@PzFeed not the Islamic flag.....</td>\n",
       "      <td>1</td>\n",
       "      <td>deny</td>\n",
       "    </tr>\n",
       "    <tr>\n",
       "      <th>8295</th>\n",
       "      <td>We can see people coming out a firedoor near t...</td>\n",
       "      <td>0</td>\n",
       "      <td>support</td>\n",
       "    </tr>\n",
       "    <tr>\n",
       "      <th>8296</th>\n",
       "      <td>@lucethoughts @Xenojay have they shot them</td>\n",
       "      <td>3</td>\n",
       "      <td>comment</td>\n",
       "    </tr>\n",
       "    <tr>\n",
       "      <th>8297</th>\n",
       "      <td>We can see people coming out a firedoor near t...</td>\n",
       "      <td>0</td>\n",
       "      <td>support</td>\n",
       "    </tr>\n",
       "    <tr>\n",
       "      <th>8298</th>\n",
       "      <td>@lucethoughts @774melbourne does it mean the h...</td>\n",
       "      <td>2</td>\n",
       "      <td>query</td>\n",
       "    </tr>\n",
       "  </tbody>\n",
       "</table>\n",
       "<p>8299 rows × 3 columns</p>\n",
       "</div>"
      ],
      "text/plain": [
       "                                                   text  label label_text\n",
       "0     Stills from eyewitness video show two #Charlie...      0    support\n",
       "1     Terribile “@MashableNews: video show two #Char...      0    support\n",
       "2              @Raquel75 @MashableNews and terrible too      3    comment\n",
       "3     Stills from eyewitness video show two #Charlie...      0    support\n",
       "4     Terribile “@MashableNews: video show two #Char...      0    support\n",
       "...                                                 ...    ...        ...\n",
       "8294                  @PzFeed not the Islamic flag.....      1       deny\n",
       "8295  We can see people coming out a firedoor near t...      0    support\n",
       "8296         @lucethoughts @Xenojay have they shot them      3    comment\n",
       "8297  We can see people coming out a firedoor near t...      0    support\n",
       "8298  @lucethoughts @774melbourne does it mean the h...      2      query\n",
       "\n",
       "[8299 rows x 3 columns]"
      ]
     },
     "execution_count": 143,
     "metadata": {},
     "output_type": "execute_result"
    }
   ],
   "source": [
    "#adding relevant columns to required dataframe\n",
    "df_req = pd.DataFrame()\n",
    "ar=[]\n",
    "for s in df['branches']:\n",
    "    for i in s:\n",
    "        ar.append(i)\n",
    "df_req['text'] = ar\n",
    "\n",
    "ar2=[]\n",
    "for s in df['fold_stance_labels']:\n",
    "    for i in s:\n",
    "        ar2.append(i)\n",
    "df_req['label'] = ar2\n",
    "\n",
    "ar3=[]\n",
    "for s in df['fold_stance_labels_text']:\n",
    "    for i in s:\n",
    "        ar3.append(i)\n",
    "df_req['label_text'] = ar3\n",
    "\n",
    "df_req"
   ]
  },
  {
   "cell_type": "code",
   "execution_count": 144,
   "metadata": {},
   "outputs": [
    {
     "name": "stdout",
     "output_type": "stream",
     "text": [
      "<class 'pandas.core.frame.DataFrame'>\n",
      "RangeIndex: 8299 entries, 0 to 8298\n",
      "Data columns (total 3 columns):\n",
      " #   Column      Non-Null Count  Dtype \n",
      "---  ------      --------------  ----- \n",
      " 0   text        8299 non-null   object\n",
      " 1   label       8299 non-null   int64 \n",
      " 2   label_text  8299 non-null   object\n",
      "dtypes: int64(1), object(2)\n",
      "memory usage: 194.6+ KB\n"
     ]
    }
   ],
   "source": [
    "df_req.info()"
   ]
  },
  {
   "cell_type": "code",
   "execution_count": 145,
   "metadata": {},
   "outputs": [
    {
     "name": "stdout",
     "output_type": "stream",
     "text": [
      "showing info https://raw.githubusercontent.com/nltk/nltk_data/gh-pages/index.xml\n"
     ]
    },
    {
     "data": {
      "text/plain": [
       "True"
      ]
     },
     "execution_count": 145,
     "metadata": {},
     "output_type": "execute_result"
    }
   ],
   "source": [
    "#  nltk.download()"
   ]
  },
  {
   "cell_type": "markdown",
   "metadata": {},
   "source": [
    "#### Processing Text"
   ]
  },
  {
   "cell_type": "code",
   "execution_count": 146,
   "metadata": {},
   "outputs": [
    {
     "data": {
      "text/html": [
       "<div>\n",
       "<style scoped>\n",
       "    .dataframe tbody tr th:only-of-type {\n",
       "        vertical-align: middle;\n",
       "    }\n",
       "\n",
       "    .dataframe tbody tr th {\n",
       "        vertical-align: top;\n",
       "    }\n",
       "\n",
       "    .dataframe thead th {\n",
       "        text-align: right;\n",
       "    }\n",
       "</style>\n",
       "<table border=\"1\" class=\"dataframe\">\n",
       "  <thead>\n",
       "    <tr style=\"text-align: right;\">\n",
       "      <th></th>\n",
       "      <th>text</th>\n",
       "      <th>label</th>\n",
       "      <th>label_text</th>\n",
       "      <th>text_strings</th>\n",
       "    </tr>\n",
       "  </thead>\n",
       "  <tbody>\n",
       "    <tr>\n",
       "      <th>0</th>\n",
       "      <td>[still, eyewit, video, show, two, charliehebdo...</td>\n",
       "      <td>0</td>\n",
       "      <td>support</td>\n",
       "      <td>still eyewit video show two charliehebdo attac...</td>\n",
       "    </tr>\n",
       "    <tr>\n",
       "      <th>1</th>\n",
       "      <td>[terribil, “mashablenew, video, show, two, cha...</td>\n",
       "      <td>0</td>\n",
       "      <td>support</td>\n",
       "      <td>terribil “mashablenew video show two charliehe...</td>\n",
       "    </tr>\n",
       "    <tr>\n",
       "      <th>2</th>\n",
       "      <td>[raquel75, mashablenew, terribl]</td>\n",
       "      <td>3</td>\n",
       "      <td>comment</td>\n",
       "      <td>raquel75 mashablenew terribl</td>\n",
       "    </tr>\n",
       "    <tr>\n",
       "      <th>3</th>\n",
       "      <td>[still, eyewit, video, show, two, charliehebdo...</td>\n",
       "      <td>0</td>\n",
       "      <td>support</td>\n",
       "      <td>still eyewit video show two charliehebdo attac...</td>\n",
       "    </tr>\n",
       "    <tr>\n",
       "      <th>4</th>\n",
       "      <td>[terribil, “mashablenew, video, show, two, cha...</td>\n",
       "      <td>0</td>\n",
       "      <td>support</td>\n",
       "      <td>terribil “mashablenew video show two charliehe...</td>\n",
       "    </tr>\n",
       "  </tbody>\n",
       "</table>\n",
       "</div>"
      ],
      "text/plain": [
       "                                                text  label label_text  \\\n",
       "0  [still, eyewit, video, show, two, charliehebdo...      0    support   \n",
       "1  [terribil, “mashablenew, video, show, two, cha...      0    support   \n",
       "2                   [raquel75, mashablenew, terribl]      3    comment   \n",
       "3  [still, eyewit, video, show, two, charliehebdo...      0    support   \n",
       "4  [terribil, “mashablenew, video, show, two, cha...      0    support   \n",
       "\n",
       "                                        text_strings  \n",
       "0  still eyewit video show two charliehebdo attac...  \n",
       "1  terribil “mashablenew video show two charliehe...  \n",
       "2                       raquel75 mashablenew terribl  \n",
       "3  still eyewit video show two charliehebdo attac...  \n",
       "4  terribil “mashablenew video show two charliehe...  "
      ]
     },
     "execution_count": 146,
     "metadata": {},
     "output_type": "execute_result"
    }
   ],
   "source": [
    "# from nltk.corpus import stopwords\n",
    "\n",
    "def remove_punctuation(text):\n",
    "    '''\n",
    "    Removing punctuation characters from text\n",
    "    '''\n",
    "    without_punct=\"\".join([i for i in text if i not in string.punctuation])\n",
    "    return without_punct\n",
    "\n",
    "\n",
    "def tokenize(string):\n",
    "    '''\n",
    "    Tokenizes the string to a list of words\n",
    "    '''\n",
    "    word_tokens = string.split()\n",
    "    return word_tokens\n",
    "\n",
    "\n",
    "stop_words = nltk.corpus.stopwords.words('english')\n",
    "def remove_stopwords(text):\n",
    "    '''\n",
    "    Removing stop words to focus on meaningful words\n",
    "    '''\n",
    "    output= [i for i in text if i not in stop_words]\n",
    "    return output\n",
    "\n",
    "\n",
    "porter_stemmer = PorterStemmer()\n",
    "def stemming(text):\n",
    "    '''\n",
    "    Stemming of words in text\n",
    "    '''\n",
    "    stem_text = [porter_stemmer.stem(word) for word in text]\n",
    "    return stem_text\n",
    "\n",
    "\n",
    "wordnet_lemmatizer = WordNetLemmatizer()\n",
    "def lemmatizer(text):\n",
    "    '''\n",
    "    Lemmatizing of words in text\n",
    "    '''\n",
    "    lemm_text = [wordnet_lemmatizer.lemmatize(word) for word in text]\n",
    "    return lemm_text\n",
    "\n",
    "def clean_text():\n",
    "    df_req['text']= df_req['text'].str.lower()\n",
    "    df_req['text']= df_req['text'].str.replace('\"' , '')\n",
    "    df_req['text']= df_req['text'].str.replace('http\\S+','',case=False)\n",
    "    df_req['text']= df_req['text'].apply(lambda x: remove_punctuation(x))\n",
    "    df_req['text']= df_req['text'].apply(lambda x: tokenize(x))\n",
    "    df_req['text']= df_req['text'].apply(lambda x:remove_stopwords(x))\n",
    "    df_req['text']= df_req['text'].apply(lambda x: stemming(x))\n",
    "    df_req['text']= df_req['text'].apply(lambda x: lemmatizer(x))\n",
    "    df_req['text_strings'] = df_req['text'].apply(lambda x: ' '.join([str(word) for word in x]))\n",
    "    \n",
    "    \n",
    "    \n",
    "\n",
    "# nltk.download('wordnet')\n",
    "# nltk.download('stopwords')\n",
    "clean_text()\n",
    "df_req.head()"
   ]
  },
  {
   "cell_type": "code",
   "execution_count": 147,
   "metadata": {},
   "outputs": [
    {
     "data": {
      "text/plain": [
       "<8299x6247 sparse matrix of type '<class 'numpy.int64'>'\n",
       "\twith 78937 stored elements in Compressed Sparse Row format>"
      ]
     },
     "execution_count": 147,
     "metadata": {},
     "output_type": "execute_result"
    }
   ],
   "source": [
    "vectorizer = CountVectorizer()\n",
    "X = vectorizer.fit_transform(df_req['text_strings'])\n",
    "X"
   ]
  },
  {
   "cell_type": "code",
   "execution_count": 148,
   "metadata": {},
   "outputs": [
    {
     "data": {
      "text/plain": [
       "(8299, 6247)"
      ]
     },
     "execution_count": 148,
     "metadata": {},
     "output_type": "execute_result"
    }
   ],
   "source": [
    "x_train = X.toarray()\n",
    "x_train = np.array(x_train)\n",
    "x_train.shape"
   ]
  },
  {
   "cell_type": "code",
   "execution_count": 149,
   "metadata": {},
   "outputs": [
    {
     "data": {
      "text/plain": [
       "array([[0, 0, 0, ..., 0, 0, 0],\n",
       "       [0, 0, 0, ..., 0, 0, 0],\n",
       "       [0, 0, 0, ..., 0, 0, 0],\n",
       "       ...,\n",
       "       [0, 0, 0, ..., 0, 0, 0],\n",
       "       [0, 0, 0, ..., 0, 0, 0],\n",
       "       [0, 0, 0, ..., 0, 0, 0]], dtype=int64)"
      ]
     },
     "execution_count": 149,
     "metadata": {},
     "output_type": "execute_result"
    }
   ],
   "source": [
    "x_train"
   ]
  },
  {
   "cell_type": "markdown",
   "metadata": {},
   "source": [
    "#### Incase labels are not given"
   ]
  },
  {
   "cell_type": "code",
   "execution_count": 150,
   "metadata": {},
   "outputs": [],
   "source": [
    "# from sklearn.preprocessing import LabelEncoder\n",
    "# label_enc = LabelEncoder()\n",
    "# train_y = label_enc.fit_transform(train_y)\n",
    "# test_y = label_enc.transform(test_y)\n",
    "# train_y"
   ]
  },
  {
   "cell_type": "markdown",
   "metadata": {},
   "source": [
    "#### Vectorize text"
   ]
  },
  {
   "cell_type": "code",
   "execution_count": 151,
   "metadata": {},
   "outputs": [
    {
     "name": "stdout",
     "output_type": "stream",
     "text": [
      "0\n"
     ]
    },
    {
     "data": {
      "text/plain": [
       "array([[0., 0., 0., ..., 0., 0., 0.],\n",
       "       [0., 0., 0., ..., 0., 0., 0.],\n",
       "       [0., 0., 0., ..., 0., 0., 0.],\n",
       "       ...,\n",
       "       [0., 0., 0., ..., 0., 0., 0.],\n",
       "       [0., 0., 0., ..., 0., 0., 0.],\n",
       "       [0., 0., 0., ..., 0., 0., 0.]])"
      ]
     },
     "execution_count": 151,
     "metadata": {},
     "output_type": "execute_result"
    }
   ],
   "source": [
    "count=0\n",
    "for i in df_req.text:\n",
    "    for j in i:\n",
    "        if isinstance(j, list):\n",
    "            count+=1\n",
    "\n",
    "print(count)\n",
    "from sklearn.feature_extraction.text import TfidfVectorizer\n",
    "tfidf_vect = TfidfVectorizer(sublinear_tf=True, min_df=5, norm='l2', encoding='latin-1')\n",
    "features = tfidf_vect.fit_transform(df_req.text_strings).toarray()\n",
    "features"
   ]
  },
  {
   "cell_type": "code",
   "execution_count": 156,
   "metadata": {},
   "outputs": [
    {
     "name": "stdout",
     "output_type": "stream",
     "text": [
      "(5809,)\n",
      "(2490,)\n",
      "(5809,)\n",
      "(2490,)\n",
      "1173    hassanbasm say though honesti murder tenet rel...\n",
      "7056                     universe93 public transport free\n",
      "6799    break hostag held sieg take place sydney lindt...\n",
      "1881    rt jeffersonobama rip ahm merabet french musli...\n",
      "1771                    ensowi france24en ye think danger\n",
      "                              ...                        \n",
      "2895    line polic car high beam greet anyon tri enter...\n",
      "7813                          live updat sieg sydney cafe\n",
      "905     break charli hebdo gunman hostag freed safe po...\n",
      "5192    dmatthewmillar jaclyncolvil twice one week toc...\n",
      "235     franc 10 peopl dead shoot hq satir weekli news...\n",
      "Name: text_strings, Length: 5809, dtype: object\n"
     ]
    }
   ],
   "source": [
    "import sklearn\n",
    "from sklearn.model_selection import train_test_split\n",
    "from sklearn.feature_extraction.text import TfidfTransformer\n",
    "\n",
    "train_X, test_X, train_y, test_y = sklearn.model_selection.train_test_split(df_req.text_strings, df_req.label, test_size = 0.3, random_state =1)\n",
    "print(train_X.shape)\n",
    "print(test_X.shape)\n",
    "print(train_y.shape)\n",
    "print(test_y.shape)\n",
    "print(train_X)\n",
    "\n",
    "count_vect = CountVectorizer()\n",
    "X_train_counts = count_vect.fit_transform(train_X)\n",
    "tfidf_transformer = TfidfTransformer()\n",
    "X_train_tfidf = tfidf_transformer.fit_transform(X_train_counts)\n"
   ]
  },
  {
   "cell_type": "markdown",
   "metadata": {},
   "source": [
    "#### Function for calculating accuracy of model in test set"
   ]
  },
  {
   "cell_type": "code",
   "execution_count": 153,
   "metadata": {},
   "outputs": [],
   "source": [
    "from sklearn.metrics import accuracy_score\n",
    "\n",
    "def calculte_pred_y_and_accuracy(model):\n",
    "    pred_y=model.predict(count_vect.transform(test_X))\n",
    "    accuracy=accuracy_score(test_y,pred_y)*100\n",
    "    print('Accuracy(in %)=',accuracy)\n",
    "    "
   ]
  },
  {
   "cell_type": "markdown",
   "metadata": {},
   "source": [
    "#### Naive Bayes"
   ]
  },
  {
   "cell_type": "code",
   "execution_count": 128,
   "metadata": {},
   "outputs": [
    {
     "name": "stdout",
     "output_type": "stream",
     "text": [
      "Accuracy(in %)= 77.0281124497992\n"
     ]
    }
   ],
   "source": [
    "from sklearn.naive_bayes import MultinomialNB\n",
    "clf = MultinomialNB().fit(X_train_tfidf, train_y)\n",
    "calculte_pred_y_and_accuracy(clf)"
   ]
  },
  {
   "cell_type": "markdown",
   "metadata": {},
   "source": [
    "#### RandomForest Classifier"
   ]
  },
  {
   "cell_type": "code",
   "execution_count": 130,
   "metadata": {},
   "outputs": [
    {
     "name": "stdout",
     "output_type": "stream",
     "text": [
      "Accuracy(in %)= 78.55421686746989\n"
     ]
    }
   ],
   "source": [
    "from sklearn.ensemble import RandomForestClassifier\n",
    "clf2 = RandomForestClassifier(n_estimators=100, random_state=42, max_depth = 700)  #500\n",
    "clf2.fit(X_train_tfidf,train_y)\n",
    "calculte_pred_y_and_accuracy(clf2)"
   ]
  },
  {
   "cell_type": "markdown",
   "metadata": {},
   "source": [
    "#### KNeighbors Classifier"
   ]
  },
  {
   "cell_type": "code",
   "execution_count": 131,
   "metadata": {},
   "outputs": [
    {
     "name": "stdout",
     "output_type": "stream",
     "text": [
      "Accuracy(in %)= 78.07228915662651\n"
     ]
    }
   ],
   "source": [
    "from sklearn.neighbors import KNeighborsClassifier\n",
    "knn = KNeighborsClassifier(n_neighbors = 4)\n",
    "knn.fit(X_train_tfidf, train_y) \n",
    "calculte_pred_y_and_accuracy(knn)"
   ]
  },
  {
   "cell_type": "markdown",
   "metadata": {},
   "source": [
    "#### SVM For various Kernels"
   ]
  },
  {
   "cell_type": "code",
   "execution_count": 139,
   "metadata": {},
   "outputs": [
    {
     "name": "stdout",
     "output_type": "stream",
     "text": [
      "Accuracy(in %)= 76.78714859437751\n",
      "Accuracy(in %)= 45.261044176706825\n",
      "Accuracy(in %)= 80.04016064257029\n"
     ]
    }
   ],
   "source": [
    "from sklearn import svm\n",
    "svm_model = svm.SVC(kernel='linear') # Linear Kernel\n",
    "svm_model2 = svm.SVC(kernel='rbf') # Linear Kernel\n",
    "svm_model3 = svm.SVC(kernel='poly') # Linear Kernel\n",
    "svm_model.fit(X_train_tfidf, train_y)\n",
    "svm_model2.fit(X_train_tfidf, train_y)\n",
    "svm_model3.fit(X_train_tfidf, train_y)\n",
    "calculte_pred_y_and_accuracy(svm_model)\n",
    "calculte_pred_y_and_accuracy(svm_model2)\n",
    "calculte_pred_y_and_accuracy(svm_model3)"
   ]
  }
 ],
 "metadata": {
  "kernelspec": {
   "display_name": "Python 3",
   "language": "python",
   "name": "python3"
  },
  "language_info": {
   "codemirror_mode": {
    "name": "ipython",
    "version": 3
   },
   "file_extension": ".py",
   "mimetype": "text/x-python",
   "name": "python",
   "nbconvert_exporter": "python",
   "pygments_lexer": "ipython3",
   "version": "3.7.6"
  }
 },
 "nbformat": 4,
 "nbformat_minor": 4
}
